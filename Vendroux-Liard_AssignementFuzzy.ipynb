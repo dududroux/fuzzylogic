{
 "cells": [
  {
   "cell_type": "code",
   "execution_count": 2,
   "metadata": {},
   "outputs": [],
   "source": [
    "import numpy as np\n",
    "from simpful import *\n",
    "import matplotlib as plt"
   ]
  },
  {
   "cell_type": "code",
   "execution_count": 3,
   "metadata": {},
   "outputs": [
    {
     "name": "stdout",
     "output_type": "stream",
     "text": [
      "  ____  __  _  _  ____  ____  _  _  __   \n",
      " / ___)(  )( \\/ )(  _ \\(  __)/ )( \\(  ) v2.8.0 \n",
      " \\___ \\ )( / \\/ \\ ) __/ ) _) ) \\/ (/ (_/\\ \n",
      " (____/(__)\\_)(_/(__)  (__)  \\____/\\____/\n",
      "\n",
      " Created by Marco S. Nobile (m.s.nobile@tue.nl)\n",
      " and Simone Spolaor (simone.spolaor@unimib.it)\n",
      "\n"
     ]
    }
   ],
   "source": [
    "FS = FuzzySystem()"
   ]
  },
  {
   "cell_type": "markdown",
   "metadata": {},
   "source": [
    "## Define Inputs and Output\n",
    "1. Inputs\n",
    "- Number of Cars\n",
    "- Number of Pedestrians\n",
    "- Hours of the day\n",
    "- Week-end or Week \n",
    "2. Output\n",
    "- Duration of the car green light"
   ]
  },
  {
   "cell_type": "code",
   "execution_count": null,
   "metadata": {},
   "outputs": [],
   "source": [
    "# Define fuzzy sets and linguistic variables\n",
    "\n",
    "np_low = FuzzySet(function=Trapezoidal_MF(0, 0, 7, 10), term = \"low\")\n",
    "np_average = FuzzySet(function=Trapezoidal_MF(8, 12, 17, 20), term = \"average\")\n",
    "np_high = FuzzySet(function=Trapezoidal_MF(18, 25, 30, 30), term = \"high\")\n",
    "FS.add_linguistic_variable(\"nb_pd\",LinguisticVariable([np_low, np_average, np_high], concept =\"Number of Pedestrian\", universe_of_discourse=[0,30]))\n",
    "\n",
    "nc_low = FuzzySet(function=Trapezoidal_MF(0, 0, 10, 15), term = \"low\")\n",
    "nc_average = FuzzySet(function=Trapezoidal_MF(10, 15, 25, 30), term = \"average\")\n",
    "nc_high = FuzzySet(function=Trapezoidal_MF(25, 40, 60, 60), term = \"high\")\n",
    "FS.add_linguistic_variable(\"nb_car\",LinguisticVariable([nc_low, nc_average, nc_high], concept = \"Number of Car in the last 5 minutes\", universe_of_discourse=[0,60]))\n",
    "\n",
    "h_night = FuzzySet(function=Trapezoidal_MF(0,0,6,7), term = \"night\")\n",
    "h_morningpeak = FuzzySet(function=Trapezoidal_MF(6.5, 7, 9, 10), term = \"morning peak\")\n",
    "h_offpeak = FuzzySet(function = Trapezoidal_MF(9.5, 10.5, 16, 17), term = \"off peak\")\n",
    "h_afpeak = FuzzySet(function= Trapezoidal_MF(16.5, 17, 19,20), term = \"af peak\")\n",
    "h_evening = FuzzySet(function = Trapezoidal_MF(19.5, 20.5, 24, 24), term = \"evening\")\n",
    "FS.add_linguistic_variable(\"day_hour\", LinguisticVariable([h_night, h_morningpeak, h_offpeak, h_afpeak, h_evening], concept=\"Hour of the day\", universe_of_discourse=[0,24]))\n",
    "\n",
    "week = FuzzySet(function=Trapezoidal_MF(1,1,5,5), term = \"week\")\n",
    "weekend = FuzzySet(function=Trapezoidal_MF(6,6,7,7), term = \"weekend\")\n",
    "FS.add_linguistic_variable(\"week_day\", LinguisticVariable([week, weekend], concept=\"Week or Weekend\", universe_of_discourse=[1,7]))\n",
    "\n",
    "#Define output\n",
    "gl_short = FuzzySet(function=Trapezoidal_MF(5, 5, 10,15), term = \"Short green light duration\")\n",
    "gl_medium = FuzzySet(function=Trapezoidal_MF(12,16,30,35), term = \"Medium green light duration\")\n",
    "gl_high = FuzzySet(function=Trapezoidal_MF(32,36,60,60), term = \"High green light duration\")\n",
    "FS.add_linguistic_variable(\"gl_duration\", LinguisticVariable([gl_short, gl_medium, gl_high], concept = \"Green light duration\", universe_of_discourse=[5,60]))"
    "R1 = \"IF (nb_car IS low) OR (nb_pd IS high) THEN (gl_duration IS low) WEIGHT 1.0\"\n",
    "R2 = \"IF (nb_car IS high) OR (nb_pd IS low) THEN (gl_duration IS high) WEIGHT 0.8\"\n",
    "R3 = \"IF (nb_car IS low) AND (hour IS h_morningpeak) THEN (gl_duration IS average) WEIGHT 0.7\"\n",
    "FS.add_rules([R1, R2, R3])"
   ]
  }
 ],
 "metadata": {
  "kernelspec": {
   "display_name": "Python 3.10.4 64-bit",
   "language": "python",
   "name": "python3"
  },
  "language_info": {
   "codemirror_mode": {
    "name": "ipython",
    "version": 3
   },
   "file_extension": ".py",
   "mimetype": "text/x-python",
   "name": "python",
   "nbconvert_exporter": "python",
   "pygments_lexer": "ipython3",
   "version": "3.10.4"
  },
  "orig_nbformat": 4,
  "vscode": {
   "interpreter": {
    "hash": "3b45e788532cbbf5c24a5864ba2bd5e7dbba63eaa409d98b1dadc5a6a4c49f8f"
   }
  }
 },
 "nbformat": 4,
 "nbformat_minor": 2
}
