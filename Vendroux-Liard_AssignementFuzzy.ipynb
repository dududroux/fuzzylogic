{
 "cells": [
  {
   "cell_type": "code",
   "execution_count": 1,
   "metadata": {},
   "outputs": [],
   "source": [
    "import numpy as np\n",
    "from simpful import *\n",
    "import matplotlib as plt"
   ]
  },
  {
   "cell_type": "code",
   "execution_count": 2,
   "metadata": {},
   "outputs": [
    {
     "name": "stdout",
     "output_type": "stream",
     "text": [
      "  ____  __  _  _  ____  ____  _  _  __   \n",
      " / ___)(  )( \\/ )(  _ \\(  __)/ )( \\(  ) v2.8.0 \n",
      " \\___ \\ )( / \\/ \\ ) __/ ) _) ) \\/ (/ (_/\\ \n",
      " (____/(__)\\_)(_/(__)  (__)  \\____/\\____/\n",
      "\n",
      " Created by Marco S. Nobile (m.s.nobile@tue.nl)\n",
      " and Simone Spolaor (simone.spolaor@unimib.it)\n",
      "\n"
     ]
    }
   ],
   "source": [
    "FS = FuzzySystem()"
   ]
  },
  {
   "cell_type": "markdown",
   "metadata": {},
   "source": [
    "## Define Inputs and Output\n",
    "1. Inputs\n",
    "- Number of Cars\n",
    "- Number of Pedestrians\n",
    "- Hours of the day\n",
    "- Week-end or Week \n",
    "2. Output\n",
    "- Duration of the car green light"
   ]
  },
  {
   "cell_type": "code",
   "execution_count": 12,
   "metadata": {},
   "outputs": [],
   "source": [
    "# Define fuzzy sets and linguistic variables \n",
    "\n",
    "np_low = FuzzySet(function=Trapezoidal_MF(0, 0, 7, 10), term = \"low\")\n",
    "np_average = FuzzySet(function=Trapezoidal_MF(8, 12, 17, 20), term = \"average\")\n",
    "np_high = FuzzySet(function=Trapezoidal_MF(18, 25, 30, 30), term = \"high\")\n",
    "FS.add_linguistic_variable(\"nb_pd\",LinguisticVariable([np_low, np_average, np_high], concept =\"Number of Pedestrian\", universe_of_discourse=[0,30]))\n",
    "\n",
    "nc_low = FuzzySet(function=Trapezoidal_MF(0, 0, 10, 15), term = \"low\")\n",
    "nc_average = FuzzySet(function=Trapezoidal_MF(10, 15, 25, 30), term = \"average\")\n",
    "nc_high = FuzzySet(function=Trapezoidal_MF(25, 40, 60, 60), term = \"high\")\n",
    "FS.add_linguistic_variable(\"nb_car\",LinguisticVariable([nc_low, nc_average, nc_high], concept = \"Number of Car in the last 5 minutes\", universe_of_discourse=[0,60]))\n",
    "\n",
    "h_night = FuzzySet(function=Trapezoidal_MF(0,0,6,7), term = \"night\")\n",
    "h_morningpeak = FuzzySet(function=Trapezoidal_MF(6.5, 7, 9, 10), term = \"morningpeak\")\n",
    "h_offpeak = FuzzySet(function = Trapezoidal_MF(9.5, 10.5, 16, 17), term = \"offpeak\")\n",
    "h_afpeak = FuzzySet(function= Trapezoidal_MF(16.5, 17, 19,20), term = \"afpeak\")\n",
    "h_evening = FuzzySet(function = Trapezoidal_MF(19.5, 20.5, 24, 24), term = \"evening\")\n",
    "FS.add_linguistic_variable(\"day_hour\", LinguisticVariable([h_night, h_morningpeak, h_offpeak, h_afpeak, h_evening], concept=\"Hour of the day\", universe_of_discourse=[0,24]))\n",
    "\n",
    "week = FuzzySet(function=Trapezoidal_MF(1,1,5,5), term = \"week\")\n",
    "weekend = FuzzySet(function=Trapezoidal_MF(6,6,7,7), term = \"weekend\")\n",
    "FS.add_linguistic_variable(\"week_day\", LinguisticVariable([week, weekend], concept=\"Week or Weekend\", universe_of_discourse=[1,7]))\n",
    "\n",
    "#Define output\n",
    "gl_short = FuzzySet(function=Trapezoidal_MF(5, 5, 10,15), term = \"Short green light duration\")\n",
    "gl_medium = FuzzySet(function=Trapezoidal_MF(12,16,30,35), term = \"Medium green light duration\")\n",
    "gl_high = FuzzySet(function=Trapezoidal_MF(32,36,60,60), term = \"High green light duration\")\n",
    "FS.add_linguistic_variable(\"gl_duration\", LinguisticVariable([gl_short, gl_medium, gl_high], concept = \"Green light duration\", universe_of_discourse=[5,60]))"
   ]
  },
  {
   "cell_type": "code",
   "execution_count": 13,
   "metadata": {},
   "outputs": [],
   "source": [
    "R1 = \"IF (nb_car IS low) OR (nb_pd IS high) THEN (gl_duration IS low) WEIGHT 1.0\"\n",
    "R2 = \"IF (nb_car IS high) OR (nb_pd IS low) THEN (gl_duration IS high) WEIGHT 0.8\"\n",
    "R3 = \"IF (nb_car IS low) AND (day_hour IS morningpeak) THEN (gl_duration IS average) WEIGHT 0.7\"\n",
    "FS.add_rules([R1, R2, R3])"
   ]
  },
  {
   "cell_type": "code",
   "execution_count": 9,
   "metadata": {},
   "outputs": [],
   "source": [
    "FS.set_variable(\"nb_pd\", 5)\n",
    "FS.set_variable(\"nb_car\", 35)\n",
    "FS.set_variable(\"day_hour\", 7)\n",
    "FS.set_variable(\"week_day\", 6)"
   ]
  },
  {
   "cell_type": "code",
   "execution_count": 10,
   "metadata": {},
   "outputs": [
    {
     "ename": "Exception",
     "evalue": "ERROR: term 'h_morningpeak'' not defined.\n ---- PROBLEMATIC CLAUSE:\nc.(day_hour IS h_morningpeak)",
     "output_type": "error",
     "traceback": [
      "\u001b[1;31m---------------------------------------------------------------------------\u001b[0m",
      "\u001b[1;31mKeyError\u001b[0m                                  Traceback (most recent call last)",
      "File \u001b[1;32mc:\\Users\\duduv\\AppData\\Local\\Programs\\Python\\Python310\\lib\\site-packages\\simpful\\rule_parsing.py:26\u001b[0m, in \u001b[0;36mClause.evaluate\u001b[1;34m(self, FuzzySystem, verbose, operators)\u001b[0m\n\u001b[0;32m     25\u001b[0m \u001b[39mtry\u001b[39;00m:\n\u001b[1;32m---> 26\u001b[0m     \u001b[39mreturn\u001b[39;00m ans[\u001b[39mself\u001b[39;49m\u001b[39m.\u001b[39;49m_term]\n\u001b[0;32m     27\u001b[0m \u001b[39mexcept\u001b[39;00m \u001b[39mKeyError\u001b[39;00m:\n",
      "\u001b[1;31mKeyError\u001b[0m: 'h_morningpeak'",
      "\nDuring handling of the above exception, another exception occurred:\n",
      "\u001b[1;31mException\u001b[0m                                 Traceback (most recent call last)",
      "\u001b[1;32mc:\\Users\\duduv\\OneDrive - Asia Pacific University\\FuzzyLogic\\fuzzylogic\\Vendroux-Liard_AssignementFuzzy.ipynb Cellule 7\u001b[0m in \u001b[0;36m<cell line: 1>\u001b[1;34m()\u001b[0m\n\u001b[1;32m----> <a href='vscode-notebook-cell:/c%3A/Users/duduv/OneDrive%20-%20Asia%20Pacific%20University/FuzzyLogic/fuzzylogic/Vendroux-Liard_AssignementFuzzy.ipynb#W6sZmlsZQ%3D%3D?line=0'>1</a>\u001b[0m \u001b[39mprint\u001b[39m(FS\u001b[39m.\u001b[39;49mMamdani_inference([\u001b[39m\"\u001b[39;49m\u001b[39mgl_duration\u001b[39;49m\u001b[39m\"\u001b[39;49m]))\n",
      "File \u001b[1;32mc:\\Users\\duduv\\AppData\\Local\\Programs\\Python\\Python310\\lib\\site-packages\\simpful\\simpful.py:705\u001b[0m, in \u001b[0;36mFuzzySystem.Mamdani_inference\u001b[1;34m(self, terms, subdivisions, ignore_errors, ignore_warnings, verbose, aggregation_function)\u001b[0m\n\u001b[0;32m    703\u001b[0m array_rules \u001b[39m=\u001b[39m array(\u001b[39mself\u001b[39m\u001b[39m.\u001b[39m_rules, dtype\u001b[39m=\u001b[39m\u001b[39mobject\u001b[39m)\n\u001b[0;32m    704\u001b[0m \u001b[39mif\u001b[39;00m \u001b[39mlen\u001b[39m(\u001b[39mself\u001b[39m\u001b[39m.\u001b[39m_constants)\u001b[39m==\u001b[39m\u001b[39m0\u001b[39m:\n\u001b[1;32m--> 705\u001b[0m     result \u001b[39m=\u001b[39m \u001b[39mself\u001b[39;49m\u001b[39m.\u001b[39;49mmediate_Mamdani(terms, array_rules\u001b[39m.\u001b[39;49mT[\u001b[39m0\u001b[39;49m], array_rules\u001b[39m.\u001b[39;49mT[\u001b[39m1\u001b[39;49m], ignore_errors\u001b[39m=\u001b[39;49mignore_errors, ignore_warnings\u001b[39m=\u001b[39;49mignore_warnings, verbose\u001b[39m=\u001b[39;49mverbose, subdivisions\u001b[39m=\u001b[39;49msubdivisions, aggregation_function\u001b[39m=\u001b[39;49maggregation_function)\n\u001b[0;32m    706\u001b[0m \u001b[39melse\u001b[39;00m:\n\u001b[0;32m    707\u001b[0m     \u001b[39m#remove constant variables from list of variables to infer\u001b[39;00m\n\u001b[0;32m    708\u001b[0m     ncost_terms \u001b[39m=\u001b[39m [t \u001b[39mfor\u001b[39;00m t \u001b[39min\u001b[39;00m terms \u001b[39mif\u001b[39;00m t \u001b[39mnot\u001b[39;00m \u001b[39min\u001b[39;00m \u001b[39mself\u001b[39m\u001b[39m.\u001b[39m_constants]\n",
      "File \u001b[1;32mc:\\Users\\duduv\\AppData\\Local\\Programs\\Python\\Python310\\lib\\site-packages\\simpful\\simpful.py:574\u001b[0m, in \u001b[0;36mFuzzySystem.mediate_Mamdani\u001b[1;34m(self, outputs, antecedent, results, ignore_errors, ignore_warnings, verbose, subdivisions, aggregation_function)\u001b[0m\n\u001b[0;32m    571\u001b[0m \u001b[39mif\u001b[39;00m outname\u001b[39m==\u001b[39moutput:\n\u001b[0;32m    573\u001b[0m     \u001b[39mtry\u001b[39;00m:\n\u001b[1;32m--> 574\u001b[0m         value \u001b[39m=\u001b[39m ant\u001b[39m.\u001b[39;49mevaluate(\u001b[39mself\u001b[39;49m) \n\u001b[0;32m    575\u001b[0m     \u001b[39mexcept\u001b[39;00m \u001b[39mRuntimeError\u001b[39;00m: \n\u001b[0;32m    576\u001b[0m         \u001b[39mraise\u001b[39;00m \u001b[39mException\u001b[39;00m(\u001b[39m\"\u001b[39m\u001b[39mERROR: one rule could not be evaluated\u001b[39m\u001b[39m\\n\u001b[39;00m\u001b[39m\"\u001b[39m\n\u001b[0;32m    577\u001b[0m         \u001b[39m+\u001b[39m \u001b[39m\"\u001b[39m\u001b[39m --- PROBLEMATIC RULE:\u001b[39m\u001b[39m\\n\u001b[39;00m\u001b[39m\"\u001b[39m\n\u001b[0;32m    578\u001b[0m         \u001b[39m+\u001b[39m \u001b[39m\"\u001b[39m\u001b[39mIF \u001b[39m\u001b[39m\"\u001b[39m \u001b[39m+\u001b[39m \u001b[39mstr\u001b[39m(ant) \u001b[39m+\u001b[39m \u001b[39m\"\u001b[39m\u001b[39m THEN \u001b[39m\u001b[39m\"\u001b[39m \u001b[39m+\u001b[39m \u001b[39mstr\u001b[39m(res) \u001b[39m+\u001b[39m \u001b[39m\"\u001b[39m\u001b[39m\\n\u001b[39;00m\u001b[39m\"\u001b[39m)\n",
      "File \u001b[1;32mc:\\Users\\duduv\\AppData\\Local\\Programs\\Python\\Python310\\lib\\site-packages\\simpful\\rule_parsing.py:65\u001b[0m, in \u001b[0;36mFunctional.evaluate\u001b[1;34m(self, FuzzySystem)\u001b[0m\n\u001b[0;32m     63\u001b[0m \u001b[39melse\u001b[39;00m:\n\u001b[0;32m     64\u001b[0m     A \u001b[39m=\u001b[39m \u001b[39mself\u001b[39m\u001b[39m.\u001b[39m_A\u001b[39m.\u001b[39mevaluate(FuzzySystem)\n\u001b[1;32m---> 65\u001b[0m     B \u001b[39m=\u001b[39m \u001b[39mself\u001b[39;49m\u001b[39m.\u001b[39;49m_B\u001b[39m.\u001b[39;49mevaluate(FuzzySystem)\n\u001b[0;32m     66\u001b[0m     \u001b[39mreturn\u001b[39;00m array(\u001b[39meval\u001b[39m(\u001b[39mself\u001b[39m\u001b[39m.\u001b[39m_fun\u001b[39m+\u001b[39m\u001b[39m\"\u001b[39m\u001b[39m(\u001b[39m\u001b[39m%s\u001b[39;00m\u001b[39m, \u001b[39m\u001b[39m%s\u001b[39;00m\u001b[39m)\u001b[39m\u001b[39m\"\u001b[39m \u001b[39m%\u001b[39m (A,B)))\n",
      "File \u001b[1;32mc:\\Users\\duduv\\AppData\\Local\\Programs\\Python\\Python310\\lib\\site-packages\\simpful\\rule_parsing.py:28\u001b[0m, in \u001b[0;36mClause.evaluate\u001b[1;34m(self, FuzzySystem, verbose, operators)\u001b[0m\n\u001b[0;32m     26\u001b[0m     \u001b[39mreturn\u001b[39;00m ans[\u001b[39mself\u001b[39m\u001b[39m.\u001b[39m_term]\n\u001b[0;32m     27\u001b[0m \u001b[39mexcept\u001b[39;00m \u001b[39mKeyError\u001b[39;00m:\n\u001b[1;32m---> 28\u001b[0m     \u001b[39mraise\u001b[39;00m \u001b[39mException\u001b[39;00m(\u001b[39m\"\u001b[39m\u001b[39mERROR: term \u001b[39m\u001b[39m'\u001b[39m\u001b[39m\"\u001b[39m \u001b[39m+\u001b[39m \u001b[39mself\u001b[39m\u001b[39m.\u001b[39m_term \u001b[39m+\u001b[39m \u001b[39m\"\u001b[39m\u001b[39m'\u001b[39m\u001b[39m'\u001b[39m\u001b[39m not defined.\u001b[39m\u001b[39m\\n\u001b[39;00m\u001b[39m\"\u001b[39m\n\u001b[0;32m     29\u001b[0m         \u001b[39m+\u001b[39m \u001b[39m\"\u001b[39m\u001b[39m ---- PROBLEMATIC CLAUSE:\u001b[39m\u001b[39m\\n\u001b[39;00m\u001b[39m\"\u001b[39m\n\u001b[0;32m     30\u001b[0m         \u001b[39m+\u001b[39m \u001b[39mstr\u001b[39m(\u001b[39mself\u001b[39m))\n",
      "\u001b[1;31mException\u001b[0m: ERROR: term 'h_morningpeak'' not defined.\n ---- PROBLEMATIC CLAUSE:\nc.(day_hour IS h_morningpeak)"
     ]
    }
   ],
   "source": [
    "print(FS.Mamdani_inference([\"gl_duration\"]))"
   ]
  }
 ],
 "metadata": {
  "kernelspec": {
   "display_name": "Python 3.10.4 64-bit",
   "language": "python",
   "name": "python3"
  },
  "language_info": {
   "codemirror_mode": {
    "name": "ipython",
    "version": 3
   },
   "file_extension": ".py",
   "mimetype": "text/x-python",
   "name": "python",
   "nbconvert_exporter": "python",
   "pygments_lexer": "ipython3",
   "version": "3.10.4"
  },
  "orig_nbformat": 4,
  "vscode": {
   "interpreter": {
    "hash": "3b45e788532cbbf5c24a5864ba2bd5e7dbba63eaa409d98b1dadc5a6a4c49f8f"
   }
  }
 },
 "nbformat": 4,
 "nbformat_minor": 2
}
